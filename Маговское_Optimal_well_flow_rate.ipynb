{
  "nbformat": 4,
  "nbformat_minor": 0,
  "metadata": {
    "colab": {
      "name": "Маговское. Optimal well flow rate",
      "provenance": [],
      "authorship_tag": "ABX9TyN7Wweuyq9lBV9X6DZv3fHZ",
      "include_colab_link": true
    },
    "kernelspec": {
      "name": "python3",
      "display_name": "Python 3"
    },
    "language_info": {
      "name": "python"
    }
  },
  "cells": [
    {
      "cell_type": "markdown",
      "metadata": {
        "id": "view-in-github",
        "colab_type": "text"
      },
      "source": [
        "<a href=\"https://colab.research.google.com/github/Konstantan99/Optimal-well-flow-rate/blob/main/%D0%9C%D0%B0%D0%B3%D0%BE%D0%B2%D1%81%D0%BA%D0%BE%D0%B5_Optimal_well_flow_rate.ipynb\" target=\"_parent\"><img src=\"https://colab.research.google.com/assets/colab-badge.svg\" alt=\"Open In Colab\"/></a>"
      ]
    },
    {
      "cell_type": "markdown",
      "metadata": {
        "id": "NM0bP-wmSGME"
      },
      "source": [
        "Алгоритм работы:\n",
        "\n",
        "1.   Подгружаем данные\n",
        "2.   Преобразовываем данные, где индексы - дата, название колонки - фича (приемистость, дебит по скважинам)\n",
        "3.   Предобрабатываем начальные данные:\n",
        "*   `sklearn.neighbors.LocalOutlierFactor` - удаляем аномальные значения\n",
        "*   `scipy.signal.savgol_filter` - сглаживаем график\n",
        "\n",
        "4.   Добавляем новые переменные:\n",
        "*   Среднее и медианное значение предыдущих 6 месяцев\n",
        "*   Количество ГТМ за месяц (по скважине или месторождению в целом в зависимости от искомой переменной)\n",
        "*   Любые другие...\n",
        "\n",
        "5.   Отобрать нужные признаки: `sklearn.feature_selection.GenericUnivariateSelect` [Полезная статья](https://habr.com/ru/post/550978/)\n",
        "\n",
        "6.   Разделить все данные на train и test **(последние 12 месяцев)** => **искомые переменные: Обводненность, Дебит одной скважины**\n",
        "7.   Обучение модели (Xgboost, LSTM) \n",
        "8.   Сделать прогноз обводненности и дебита жидкости с помощью алгоритма оптимизации (в отчете использовали COBYLA) и проверить кф детерминации\n",
        "9.   С помощью COBYLA подобрать оптимальные параметры закачки \n",
        "*(\"Для поиска распределения объемов закачки по нагнетательным\n",
        "скважинам, с учетом накладываемых ограничений и соответствующего\n",
        "максимальной добыче нефти, создан специальный алгоритм. Модель\n",
        "объекта, полученная при машинном обучении, выступает в виде функции,\n",
        "на входе которой динамика необходимых показателей, а на выходе\n",
        "динамика добычи нефти. Расчет всех возможных вариантов методом\n",
        "перебора занимает продолжительное время, поэтому с целью ускорения\n",
        "расчетного процесса использован эффективный алгоритм оптимизации\n",
        "целевых параметров.\")*"
      ]
    },
    {
      "cell_type": "code",
      "metadata": {
        "id": "S7FGcZB-RvTb"
      },
      "source": [
        ""
      ],
      "execution_count": null,
      "outputs": []
    }
  ]
}